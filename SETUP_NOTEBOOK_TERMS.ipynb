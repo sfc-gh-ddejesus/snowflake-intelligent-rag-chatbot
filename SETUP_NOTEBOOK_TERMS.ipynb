{
 "metadata": {
  "kernelspec": {
   "display_name": "Streamlit Notebook",
   "name": "streamlit"
  },
  "lastEditStatus": {
   "notebookId": "z2fet4gj5ra3ubnaehmo",
   "authorId": "8693995639742",
   "authorName": "DEMO_USER",
   "authorEmail": "doneyli.dejesus@snowflake.com",
   "sessionId": "fecb3322-eeaa-479e-891f-dadbd15e1474",
   "lastEditTime": 1756846761848
  }
 },
 "nbformat_minor": 5,
 "nbformat": 4,
 "cells": [
  {
   "cell_type": "code",
   "id": "3775908f-ca36-4846-8f38-5adca39217f2",
   "metadata": {
    "language": "python",
    "name": "cell1"
   },
   "source": "# Import python packages\nimport streamlit as st\nimport pandas as pd\n\n# We can also use Snowpark for our analyses!\nfrom snowflake.snowpark.context import get_active_session\nsession = get_active_session()\n",
   "execution_count": null,
   "outputs": []
  },
  {
   "cell_type": "code",
   "id": "8d50cbf4-0c8d-4950-86cb-114990437ac9",
   "metadata": {
    "language": "sql",
    "name": "cell2"
   },
   "source": "CREATE OR REPLACE TABLE DOCUMENTS_RAW_PARSED AS\nSELECT \n    RELATIVE_PATH AS FILENAME,\n    FILE_URL,\n    SIZE,\n    LAST_MODIFIED,\n    TO_VARCHAR (\n        SNOWFLAKE.CORTEX.PARSE_DOCUMENT(\n            '@documents',\n             relative_path,\n             {'mode': 'OCR'}\n        )\n    ) AS PARSED_CONTENT\nFROM \n    DIRECTORY(@documents)\nWHERE \n    1 = 1 \n    --AND RELATIVE_PATH = 'Briefing - proactive-disclosure-2024-12-12-secu-borders-en.pdf'\n\n    ",
   "execution_count": null,
   "outputs": []
  },
  {
   "cell_type": "code",
   "id": "c695373e-ac74-4b62-a1f1-08206cbd5c81",
   "metadata": {
    "language": "sql",
    "name": "cell3"
   },
   "source": "SELECT * FROM DOCUMENTS_RAW_PARSED;",
   "execution_count": null,
   "outputs": []
  },
  {
   "cell_type": "code",
   "id": "abc5e7f9-1dd1-445e-b0d6-e53b550c8fbc",
   "metadata": {
    "language": "sql",
    "name": "cell10"
   },
   "outputs": [],
   "source": "SELECT SNOWFLAKE.CORTEX.COMPLETE(\n    'claude-4-sonnet',\n    'I will provide you with a list of questions that contract management representatives have about legal contracts. The idea is to extract the relevant entities so I can use them for faster retrieval in a system that is holding the content of these documents. Do not use any formatting, just provide entities/terms using a colon to separate them. Have each key and value be on a new line.\n\n    See below the questions:\n    \n    Who are the hotel owners for each contract?\nWhat are the contract terms? (Compare results w/Q3)\nWhat are the key terms of the contract? (Compare results w/Q2)\nWhat is the effective date of each contract?\nDoes the contract include any Third Party Beneficieries?\nWhat are the termination terms, Performance Test termination right and termination on sale in the contract?\nPlease review all files in this repository and return a list of file names that are management agreements or hotel services agreements.\nFind all management and franchise agreements that contain a Force Majeure provision\nDoes this contract require Owner to provide information on financings?\nReview all of the documents and tell me their renewal date.\nWhat changed between the Management Agreement and Amendment 1 for [HOTEL NAME}?\nWho are the hotel owners for each contract? Please put the output in a table, showing the contract name.\nPlease review all contracts and put the information in a table in alphabetical order\nShow me all clauses that refer to exclusivity.\nWhat is the difference between the Management Agreement for [HOTEL X] and [HOTEL Y]?\nPlease review all documents and create a table with all of the references to management fee and renewal terms.\nPlease review all management and franchise agreements for exclusivity language with a termination date\nWhat are the differences between the Management Agreement for [HOTEL X] and all amendments for the same hotel?\nWhat are the Performance tests in each management agreement?  And are there any Performance Test termination rights?\nFollowing the previous question: summarize the differences in performance Tests for [HOTEL 1] and [HOTEL 2].\nPlease review all of the files in this repository and pull out any effective dates by hotel name and contract type.\nPlease review every file in this repository for clauses for exclusivity and put the information into a table for my review.\nPlease summarize the franchise agreement clauses that are the most important.\nFind all contracts with Key Money and create a table listing the contract name, hotel name and amount of key money in order of value with the highest value of Key Money at the top of the list. \nFind all contracts that are related to a Franchise agreement and report the current Fee Structure for each contract.\nReview each document for the following list of fields and return a table with all of the data: Brand, Hotel Country, Operating Terms, Contract Effective Date, Expiration Date, Renewal Rights, Termination on Sale, Key Money \nwhat are the renewal terms, who has the right to renew, and is there a date the extension notice needs to be sent?\nFind all managements agreements that do not have a renewal provision and put them in a list with the expiration dates in order of expiration'\n)",
   "execution_count": null
  },
  {
   "cell_type": "code",
   "id": "f54295e0-4ea5-478e-a380-97e36036ab4e",
   "metadata": {
    "language": "sql",
    "name": "cell11"
   },
   "outputs": [],
   "source": "CREATE OR REPLACE TABLE DOCUMENTS_RAW_PARSED_METADATA AS (\nSELECT SNOWFLAKE.CORTEX.COMPLETE(\n    'claude-4-sonnet',\n    'I will provide a list of key terms / entitites that I need you to find the corresponding value in the document provided. This will be indexed by a retrieval system containing many similar documents. Follow these instructions:\n\n            1. Do not dwell on low level details. Only provide key high level information that a human might be expected to provide when searching for this doc.\n    \n        2. Do not use any formatting, just provide keys and values using a colon to separate key and value. Have each key and value be on a new line. \n\n        3. If there is a missing value just indicate N/A\n    \n    List of Entities:\n    hotel owners\ncontract terms\nkey terms\neffective date\nthird party beneficiaries\ntermination terms\nperformance test termination right\ntermination on sale\nmanagement agreements\nhotel services agreements\nfranchise agreements\nforce majeure provision\nowner financing requirements\nrenewal date\namendment changes\nexclusivity clauses\nmanagement fee\nperformance tests\nperformance test termination rights\ncontract type\nkey money\nfee structure\nbrand\nhotel country\noperating terms\ncontract effective date\nexpiration date\nrenewal rights\nrenewal terms\nrenewal notice date\nhotel name\ncontract name\ntermination date\nexclusivity language\nfranchise agreement clauses\n'|| '\\n\\nDoc starts here:\\n' \n        || PARSED_CONTENT\n        || '\\nDoc ends here\\n\\n'\n) DOCUMENT_METADATA\nFROM \n    DOCUMENTS_RAW_PARSED )",
   "execution_count": null
  },
  {
   "cell_type": "code",
   "id": "12ac83bc-4cae-46ed-af20-47a7e6ab247d",
   "metadata": {
    "language": "sql",
    "name": "cell5"
   },
   "outputs": [],
   "source": "SELECT * FROM DOCUMENTS_RAW_PARSED_METADATA",
   "execution_count": null
  },
  {
   "cell_type": "code",
   "id": "e7746b4c-f696-4467-8a74-40c151b14a01",
   "metadata": {
    "language": "sql",
    "name": "cell8"
   },
   "outputs": [],
   "source": "-- CREATE CORTEX SEARCH SERVICE FOR METADATA\nCREATE OR REPLACE CORTEX SEARCH SERVICE CS_DOCUMENTS_METADATA\nON CONTENT_METADATA \nATTRIBUTES FILENAME\nWAREHOUSE = DEMO_WH \nTARGET_LAG = '1 minute' \nEMBEDDING_MODEL = 'snowflake-arctic-embed-l-v2.0'\nAS ( SELECT * FROM DOCUMENTS_RAW_PARSED_METADATA ); ",
   "execution_count": null
  },
  {
   "cell_type": "code",
   "id": "9314c106-73aa-4385-8adb-875cf41e38c3",
   "metadata": {
    "language": "sql",
    "name": "cell6"
   },
   "outputs": [],
   "source": "-- STEP 2: GENERATE CHUNKS AND PREPEND CONTEXT TO CHUNKb\n\nCREATE OR REPLACE TABLE CHUNKS_CONTEXTUALIZED AS (\n    WITH SPLIT_TEXT_CHUNKS AS (\n        SELECT\n            FILENAME,\n            FILE_URL,\n            C.VALUE AS CHUNK,\n        FROM\n           DOCUMENTS_RAW_PARSED_METADATA,\n           LATERAL FLATTEN( input => SNOWFLAKE.CORTEX.SPLIT_TEXT_RECURSIVE_CHARACTER (\n              PARSED_CONTENT,\n              'none',\n              1800, -- SET CHUNK SIZE\n              300 -- SET CHUNK OVERLAP\n           )) C\n    )\n    SELECT\n        M.FILENAME,\n        M.FILE_URL,\n        CONCAT(M.CONTENT_METADATA, '\\n\\n', C.CHUNK) AS CONTEXTUALIZED_CHUNK,\n    FROM\n        SPLIT_TEXT_CHUNKS C\n    JOIN\n        DOCUMENTS_RAW_PARSED_METADATA M ON C.FILENAME = M.FILENAME\n);",
   "execution_count": null
  },
  {
   "cell_type": "code",
   "id": "b44bd928-42f5-4aae-8ba7-456526e2ef53",
   "metadata": {
    "language": "sql",
    "name": "cell7"
   },
   "outputs": [],
   "source": "SELECT * FROM CHUNKS_CONTEXTUALIZED;",
   "execution_count": null
  },
  {
   "cell_type": "code",
   "id": "2e656db2-fffe-4136-b60a-1fa42b854d0d",
   "metadata": {
    "language": "sql",
    "name": "cell9"
   },
   "outputs": [],
   "source": "-- CREATE CORTEX SEARCH SERVICE FOR CHUNKS\nCREATE OR REPLACE CORTEX SEARCH SERVICE CS_DOCUMENTS_CHUNKS\nON CONTEXTUALIZED_CHUNK \nATTRIBUTES FILENAME\nWAREHOUSE = DEMO_WH \nTARGET_LAG = '1 minute' \nEMBEDDING_MODEL = 'snowflake-arctic-embed-l-v2.0'\nAS ( SELECT * FROM CHUNKS_CONTEXTUALIZED     ); ",
   "execution_count": null
  }
 ]
}